{
 "cells": [
  {
   "cell_type": "markdown",
   "metadata": {},
   "source": [
    "# WARNING - NEEDS TESTING - MAY BE MATH AND/OR CODE ERRORS - DON'T USE FOR REAL LIFE"
   ]
  },
  {
   "cell_type": "markdown",
   "metadata": {},
   "source": [
    "## Extending CHIME to model dynamic relative contact rates\n",
    "The [original CHIME model]() was intended for early stages of the Covid-19 pandemic when the spread of the virus was still growing and had not yet peaked. In Version 1.1.3, users could enter a date of mitigation corresponding to to when social distancing went into effect. After this date, the value of $\\beta$ used in the SIR computations was reduced according to the value of the `relative-contact-rate` parameter input by the user. It was kind of like a light switch that you could use one time. However, as social distancing really took hold, hospital admits and census of Covid-19 patients began to decline and the relevant questions for hospitals quickly became:\n",
    "\n",
    "- what will happen when social distancing policies are relaxed?\n",
    "- will there be a second peak?\n",
    "- when might a second peak occur and how long will it last?\n",
    "\n",
    "Of course, answers to these questions are likely to depend quite a bit on how the relaxation of social distancing polices plays out. \n",
    "\n",
    "As a quick and dirty approach to starting to explore these questions, I decided to extend CHIME to accept a csv file containing `relative-contact-rate` values by date. With these we could model more realistic \"ramp up\" and \"ramp down\" changes in social distancing behavior. Of course, no one really knows how these rates will change in response to various state policies, but by at least doing a better job of matching the current ramp up and bending in hospital admissions and census, we might be able to do a decent job of setting these rates to make projections as social distancing policies change."
   ]
  },
  {
   "cell_type": "markdown",
   "metadata": {},
   "source": [
    "## Adding dynamic relative contact rates to sim_chime_scenario_runner\n",
    "\n",
    "Several weeks ago I had created a simple Python wrapper application for CHIME called [sim_chime_scenario_runner](https://github.com/misken/sim_chime_scenario_runner). It added a bunch of little niceties that we wanted for doing scenario exploration with CHIME. You can read about the details [here](https://github.com/misken/c19#sim_chime_scenario_runnerpy) and there's a demo notebook [here](https://github.com/misken/sim_chime_scenario_runner/blob/master/demos/using_sim_chime_scenario_runner.ipynb).\n",
    "\n",
    "This notebook assumes you have a basic familiarity with `sim_chime_scenario_runner` as I'm building the new dynamic relative contact rate (dynamic-rcr for short) functionality into it."
   ]
  },
  {
   "cell_type": "code",
   "execution_count": 22,
   "metadata": {},
   "outputs": [],
   "source": [
    "import pandas as pd\n",
    "import numpy as np\n",
    "import matplotlib.pyplot as plt"
   ]
  },
  {
   "cell_type": "code",
   "execution_count": 23,
   "metadata": {},
   "outputs": [],
   "source": [
    "%matplotlib inline"
   ]
  },
  {
   "cell_type": "markdown",
   "metadata": {},
   "source": [
    "### The dynamic-rcr input file\n",
    "\n",
    "Here's what an example input file looks like. It's just a csv file. The '#' is a comment and the rest of the line is ignored by the file reader (it's just pandas `read_csv`).\n",
    "\n",
    "    date,relative_contact_rate\n",
    "    # Filename: rcr_guess4_gappy.csv\n",
    "    # first date must match date-first-hospitalized\n",
    "    2020-02-20,0.00\n",
    "    2020-03-21,0.25\n",
    "    2020-03-22,0.35\n",
    "    2020-03-24,0.45\n",
    "    2020-03-26,0.50\n",
    "    2020-03-28,0.55\n",
    "    2020-03-30,0.60\n",
    "    2020-04-01,0.65\n",
    "    2020-04-03,0.70\n",
    "    2020-04-05,0.75\n",
    "    2020-04-30,0.70\n",
    "    2020-05-03,0.60\n",
    "    2020-05-10,0.45\n",
    "    2020-05-30,0.35\n",
    "    2020-06-30,0.25\n",
    "    2020-08-31,0.15\n",
    "\n",
    "\n",
    "Each relative contact rate (`rcr`) is in effect starting on the date specified until is changed. For example, an `rcr` of 0.70 is in effect from 2020-04-30 - 2020-05-02. It changes to 0.60 on 2020-05-03. A file that looks like the following is essentially what CHIME can currently handle - one date in which the `rcr` changes from 0 to some value > 0.\n",
    "\n",
    "    date,relative_contact_rate\n",
    "    # Filename: rcr_1mit.csv\n",
    "    # first date must match date-first-hospitalized\n",
    "    2020-02-20,0.00\n",
    "    2020-03-21,0.55\n",
    "    \n"
   ]
  },
  {
   "cell_type": "markdown",
   "metadata": {},
   "source": [
    "## Running a few scenarios\n",
    "\n",
    "Let's run two scenarios, one for each of the two dynamic-rcr files shown above.\n",
    "\n",
    "Here's the standard CHIME config file I'll use for the two scenarios. The filename is `semi_0408_fddt_losplus.cfg`. A few things to note about the config file when using a dynamic-rcr file:\n",
    "\n",
    "- both the `date-first-hospitalized` and initial `doubling-time` should be specified,\n",
    "- you can leave the `mitigation-date` and `relative-contact-rate` lines in there but their values will be overridden by the dynamic-rcr file values (and of course, there can be many mitigation dates and rates).\n",
    " \n",
    "        --population 5026226\n",
    "        --market-share 0.30\n",
    "        --current-hospitalized 1096\n",
    "        --date-first-hospitalized 2020-02-20\n",
    "        --doubling-time 3.290295710120783\n",
    "        --mitigation-date 2020-03-21\n",
    "        --current-date 2020-04-08\n",
    "        --relative-contact-rate 0.54\n",
    "        --hospitalized-rate 0.025\n",
    "        --icu-rate 0.0075\n",
    "        --ventilated-rate 0.005\n",
    "        --infectious-days 10\n",
    "        --hospitalized-day 8\n",
    "        --icu-days 10\n",
    "        --ventilated-day 10\n",
    "        --n-days 120\n",
    "        --recovered 0"
   ]
  },
  {
   "cell_type": "markdown",
   "metadata": {},
   "source": [
    "### Scenario 1: A single mitigation date\n",
    "\n",
    "For this first scenario, we'll use the following `dynamic-rcr` file.\n",
    "\n",
    "    date,relative_contact_rate\n",
    "    # Filename: rcr_1mit.csv\n",
    "    # first date must match date-first-hospitalized\n",
    "    2020-02-20,0.00\n",
    "    2020-03-21,0.55\n",
    "    \n",
    "We'll use `sim_chime_scenario_runner` from the command line (it can also be used as importable module - see [demo notebook](https://github.com/misken/sim_chime_scenario_runner/blob/master/demos/using_sim_chime_scenario_runner.ipynb)). I've pip installed it from my local git repo. Here's the help:"
   ]
  },
  {
   "cell_type": "code",
   "execution_count": 24,
   "metadata": {},
   "outputs": [
    {
     "name": "stdout",
     "output_type": "stream",
     "text": [
      "usage: sim_chime_scenario_runner [-h] [--scenario SCENARIO]\n",
      "                                 [--output-path OUTPUT_PATH]\n",
      "                                 [--market-share MARKET_SHARE]\n",
      "                                 [--dynamic-rcr DYNAMIC_RCR] [--admits ADMITS]\n",
      "                                 [--actual ACTUAL] [--experiment EXPERIMENT]\n",
      "                                 [--quiet]\n",
      "                                 parameters\n",
      "\n",
      "sim chime scenario runner\n",
      "\n",
      "positional arguments:\n",
      "  parameters            CHIME config (cfg) file\n",
      "\n",
      "optional arguments:\n",
      "  -h, --help            show this help message and exit\n",
      "  --scenario SCENARIO   Prepended to output filenames. (default is current\n",
      "                        datetime)\n",
      "  --output-path OUTPUT_PATH\n",
      "                        location for output file writing\n",
      "  --market-share MARKET_SHARE\n",
      "                        csv file containing date and market share (<=1.0)\n",
      "  --dynamic-rcr DYNAMIC_RCR\n",
      "                        csv file containing dates and relative contact rates\n",
      "  --admits ADMITS       csv file containing admits by date (prior to first\n",
      "                        mitigation date)\n",
      "  --actual ACTUAL       csv file containing day, date and actual measures\n",
      "                        (e.g. admits and census\n",
      "  --experiment EXPERIMENT\n",
      "                        Undocumented feature: if not None, sim_chimes()\n",
      "                        function is called and a whole bunch of scenarios are\n",
      "                        run.\n",
      "  --quiet               If True, suppresses output messages (default=False\n"
     ]
    }
   ],
   "source": [
    "!sim_chime_scenario_runner --help"
   ]
  },
  {
   "cell_type": "markdown",
   "metadata": {},
   "source": [
    "Okay, let's run the one mitigation date scenario. Note that we are including actual admit and census data so we can compare with projections."
   ]
  },
  {
   "cell_type": "code",
   "execution_count": 25,
   "metadata": {},
   "outputs": [
    {
     "name": "stdout",
     "output_type": "stream",
     "text": [
      "2020-04-21 20:01:53,000 - penn_chime.model.parameters - INFO - Using file: semi_0408_fddt_losplus.cfg\n",
      "2020-04-21 20:01:53,004 - sim_chime_scenario_runner.sirplus - INFO - Using date_first_hospitalized: 2020-02-20; current_date: 2020-04-08; i_day: 48, current_hospitalized: 1096\n",
      "2020-04-21 20:01:53,010 - sim_chime_scenario_runner.sirplus - INFO - len(np.arange(-i_day, n_days+1)): 169\n",
      "2020-04-21 20:01:53,010 - sim_chime_scenario_runner.sirplus - INFO - len(raw_df): 169\n",
      "Scenario: test_1mit\n",
      "\n",
      "\n",
      "Input parameters\n",
      "--------------------------------------------------\n",
      "{\n",
      "    \"current_date\": \"2020-04-08\",\n",
      "    \"current_hospitalized\": 1096,\n",
      "    \"date_first_hospitalized\": \"2020-02-20\",\n",
      "    \"doubling_time\": 3.290295710120783,\n",
      "    \"hospitalized\": [\n",
      "        8,\n",
      "        0.025\n",
      "    ],\n",
      "    \"icu\": [\n",
      "        10,\n",
      "        0.0075\n",
      "    ],\n",
      "    \"infectious_days\": 10,\n",
      "    \"market_share\": 0.3,\n",
      "    \"max_y_axis\": null,\n",
      "    \"mitigation_date\": \"2020-03-21\",\n",
      "    \"n_days\": 120,\n",
      "    \"population\": 5026226,\n",
      "    \"region\": null,\n",
      "    \"relative_contact_rate\": 0.54,\n",
      "    \"recovered\": 0,\n",
      "    \"ventilated\": [\n",
      "        10,\n",
      "        0.005\n",
      "    ],\n",
      "    \"labels\": {\n",
      "        \"hospitalized\": \"Hospitalized\",\n",
      "        \"icu\": \"ICU\",\n",
      "        \"ventilated\": \"Ventilated\",\n",
      "        \"day\": \"Day\",\n",
      "        \"date\": \"Date\",\n",
      "        \"susceptible\": \"Susceptible\",\n",
      "        \"infected\": \"Infected\",\n",
      "        \"recovered\": \"Recovered\"\n",
      "    },\n",
      "    \"dispositions\": {\n",
      "        \"hospitalized\": [\n",
      "            8,\n",
      "            0.025\n",
      "        ],\n",
      "        \"icu\": [\n",
      "            10,\n",
      "            0.0075\n",
      "        ],\n",
      "        \"ventilated\": [\n",
      "            10,\n",
      "            0.005\n",
      "        ]\n",
      "    }\n",
      "}\n",
      "\n",
      "Intermediate variables\n",
      "--------------------------------------------------\n",
      "{\n",
      "    \"result_type\": \"simsir\",\n",
      "    \"scenario\": \"test_1mit\",\n",
      "    \"intrinsic_growth_rate\": 0.23449761617967013,\n",
      "    \"initial_doubling_time\": 3.2902957101207835,\n",
      "    \"r_naught\": 3.3449761617967004,\n",
      "    \"gamma\": 0.1\n",
      "}\n",
      "\n",
      "\n"
     ]
    }
   ],
   "source": [
    "# scenario = 'test_1mit'\n",
    "!sim_chime_scenario_runner semi_0408_fddt_losplus.cfg --scenario test_1mit --dynamic-rcr rcr_1mit.csv --actual semi_actual_0414.csv --output-path ./output/"
   ]
  },
  {
   "cell_type": "markdown",
   "metadata": {},
   "source": [
    "Here's all the output files created. Again, see [demo notebook](https://github.com/misken/sim_chime_scenario_runner/blob/master/demos/using_sim_chime_scenario_runner.ipynb) for more details on all the outputs created."
   ]
  },
  {
   "cell_type": "code",
   "execution_count": 26,
   "metadata": {},
   "outputs": [
    {
     "name": "stdout",
     "output_type": "stream",
     "text": [
      "./output/test_1mit_adm_cen_long.csv\n",
      "./output/test_1mit_adm_cen_wide.csv\n",
      "./output/test_1mit_admits.csv\n",
      "./output/test_1mit_census.csv\n",
      "./output/test_1mit_dispositions.csv\n",
      "./output/test_1mit_sim_sir_enhanced_df.csv\n",
      "./output/test_1mit_sim_sir_w_date.csv\n"
     ]
    }
   ],
   "source": [
    "!ls ./output/*.csv | grep 'test_1mit'"
   ]
  },
  {
   "cell_type": "markdown",
   "metadata": {},
   "source": [
    "The `test_1mit_adm_cen_wide.csv` file is designed for easy plotting with matplotlib."
   ]
  },
  {
   "cell_type": "code",
   "execution_count": 27,
   "metadata": {},
   "outputs": [],
   "source": [
    "# Read data and set x and y arrays\n",
    "test_1mit_df = pd.read_csv('./output/test_1mit_adm_cen_wide.csv', \n",
    "                                  parse_dates=['date'],\n",
    "                                  index_col=0)\n",
    "x = np.array(test_1mit_df.index.values)\n",
    "y_actual_admits = np.array(test_1mit_df.covid_admits)\n",
    "y_actual_census = np.array(test_1mit_df.covid_census)\n",
    "y_adm_test_1mit = np.array(test_1mit_df.admits_hospitalized)\n",
    "y_cen_test_1mit = np.array(test_1mit_df.census_hospitalized)"
   ]
  },
  {
   "cell_type": "code",
   "execution_count": 28,
   "metadata": {},
   "outputs": [
    {
     "data": {
      "image/png": "[encoded data removed]",
      "text/plain": [
       "<Figure size 432x288 with 1 Axes>"
      ]
     },
     "metadata": {
      "needs_background": "light"
     },
     "output_type": "display_data"
    }
   ],
   "source": [
    "# Do census comparison\n",
    "\n",
    "plt.plot(x, y_actual_census, 'b:', label = 'actual census')\n",
    "plt.plot(x, y_cen_test_1mit, 'r-', label = 'y_cen_test_1mit')\n",
    "plt.title('Model calibration using single mitigation date')\n",
    "plt.xlabel('days since Feb 20')\n",
    "plt.ylabel('census')\n",
    "plt.legend()\n",
    "plt.savefig(\"model_calibration_cen_test_1mit.png\")\n",
    "plt.show()"
   ]
  },
  {
   "cell_type": "code",
   "execution_count": 29,
   "metadata": {},
   "outputs": [
    {
     "data": {
      "image/png": "[encoded data removed]",
      "text/plain": [
       "<Figure size 432x288 with 1 Axes>"
      ]
     },
     "metadata": {
      "needs_background": "light"
     },
     "output_type": "display_data"
    }
   ],
   "source": [
    "# Do admit comparison\n",
    "\n",
    "plt.plot(x, y_actual_admits, 'b:', label = 'actual admits')\n",
    "plt.plot(x, y_adm_test_1mit, 'r-', label = 'y_adm_test_1mit')\n",
    "plt.title('Model calibration using single mitigation date')\n",
    "plt.xlabel('days since Feb 20')\n",
    "plt.ylabel('admits')\n",
    "plt.legend()\n",
    "plt.savefig(\"model_calibration_adm_test_1mit.png\")\n",
    "plt.show()"
   ]
  },
  {
   "cell_type": "markdown",
   "metadata": {},
   "source": [
    "### Scenario 2: Multiple mitigation dates\n",
    "\n",
    "For the second scenario, we'll use the following `dynamic-rcr` file.\n",
    "\n",
    "    date,relative_contact_rate\n",
    "    # Filename: rcr_guess4_gappy.csv\n",
    "    # first date must match date-first-hospitalized\n",
    "    2020-02-20,0.00\n",
    "    2020-03-21,0.25\n",
    "    2020-03-22,0.35\n",
    "    2020-03-24,0.45\n",
    "    2020-03-26,0.50\n",
    "    2020-03-28,0.55\n",
    "    2020-03-30,0.60\n",
    "    2020-04-01,0.65\n",
    "    2020-04-03,0.70\n",
    "    2020-04-05,0.75\n",
    "    2020-04-30,0.70\n",
    "    2020-05-03,0.60\n",
    "    2020-05-10,0.45\n",
    "    2020-05-30,0.35\n",
    "    2020-06-30,0.25\n",
    "    2020-08-31,0.15\n",
    "    \n"
   ]
  },
  {
   "cell_type": "markdown",
   "metadata": {},
   "source": [
    "Okay, let's run the multiple mitigation date scenario. Note that again we are including actual admit and census data so we can compare with projections."
   ]
  },
  {
   "cell_type": "code",
   "execution_count": 30,
   "metadata": {},
   "outputs": [
    {
     "name": "stdout",
     "output_type": "stream",
     "text": [
      "2020-04-21 20:01:54,256 - penn_chime.model.parameters - INFO - Using file: semi_0408_fddt_losplus.cfg\n",
      "2020-04-21 20:01:54,261 - sim_chime_scenario_runner.sirplus - INFO - Using date_first_hospitalized: 2020-02-20; current_date: 2020-04-08; i_day: 48, current_hospitalized: 1096\n",
      "2020-04-21 20:01:54,268 - sim_chime_scenario_runner.sirplus - INFO - len(np.arange(-i_day, n_days+1)): 169\n",
      "2020-04-21 20:01:54,268 - sim_chime_scenario_runner.sirplus - INFO - len(raw_df): 169\n",
      "Scenario: rcr_guess4_gappy\n",
      "\n",
      "\n",
      "Input parameters\n",
      "--------------------------------------------------\n",
      "{\n",
      "    \"current_date\": \"2020-04-08\",\n",
      "    \"current_hospitalized\": 1096,\n",
      "    \"date_first_hospitalized\": \"2020-02-20\",\n",
      "    \"doubling_time\": 3.290295710120783,\n",
      "    \"hospitalized\": [\n",
      "        8,\n",
      "        0.025\n",
      "    ],\n",
      "    \"icu\": [\n",
      "        10,\n",
      "        0.0075\n",
      "    ],\n",
      "    \"infectious_days\": 10,\n",
      "    \"market_share\": 0.3,\n",
      "    \"max_y_axis\": null,\n",
      "    \"mitigation_date\": \"2020-03-21\",\n",
      "    \"n_days\": 120,\n",
      "    \"population\": 5026226,\n",
      "    \"region\": null,\n",
      "    \"relative_contact_rate\": 0.54,\n",
      "    \"recovered\": 0,\n",
      "    \"ventilated\": [\n",
      "        10,\n",
      "        0.005\n",
      "    ],\n",
      "    \"labels\": {\n",
      "        \"hospitalized\": \"Hospitalized\",\n",
      "        \"icu\": \"ICU\",\n",
      "        \"ventilated\": \"Ventilated\",\n",
      "        \"day\": \"Day\",\n",
      "        \"date\": \"Date\",\n",
      "        \"susceptible\": \"Susceptible\",\n",
      "        \"infected\": \"Infected\",\n",
      "        \"recovered\": \"Recovered\"\n",
      "    },\n",
      "    \"dispositions\": {\n",
      "        \"hospitalized\": [\n",
      "            8,\n",
      "            0.025\n",
      "        ],\n",
      "        \"icu\": [\n",
      "            10,\n",
      "            0.0075\n",
      "        ],\n",
      "        \"ventilated\": [\n",
      "            10,\n",
      "            0.005\n",
      "        ]\n",
      "    }\n",
      "}\n",
      "\n",
      "Intermediate variables\n",
      "--------------------------------------------------\n",
      "{\n",
      "    \"result_type\": \"simsir\",\n",
      "    \"scenario\": \"rcr_guess4_gappy\",\n",
      "    \"intrinsic_growth_rate\": 0.23449761617967013,\n",
      "    \"initial_doubling_time\": 3.2902957101207835,\n",
      "    \"r_naught\": 3.3449761617967004,\n",
      "    \"gamma\": 0.1\n",
      "}\n",
      "\n",
      "\n"
     ]
    }
   ],
   "source": [
    "# scenario = 'rcr_guess4_gappy'\n",
    "!sim_chime_scenario_runner semi_0408_fddt_losplus.cfg --scenario rcr_guess4_gappy --dynamic-rcr rcr_guess4_gappy.csv --actual semi_actual_0414.csv --output-path ./output/"
   ]
  },
  {
   "cell_type": "markdown",
   "metadata": {},
   "source": [
    "Here's all the output files created. Again, see [demo notebook](https://github.com/misken/sim_chime_scenario_runner/blob/master/demos/using_sim_chime_scenario_runner.ipynb) for more details on all the outputs created."
   ]
  },
  {
   "cell_type": "code",
   "execution_count": 35,
   "metadata": {},
   "outputs": [
    {
     "name": "stdout",
     "output_type": "stream",
     "text": [
      "./output/rcr_guess4_gappy_adm_cen_long.csv\n",
      "./output/rcr_guess4_gappy_adm_cen_wide.csv\n",
      "./output/rcr_guess4_gappy_admits.csv\n",
      "./output/rcr_guess4_gappy_census.csv\n",
      "./output/rcr_guess4_gappy_dispositions.csv\n",
      "./output/rcr_guess4_gappy_sim_sir_enhanced_df.csv\n",
      "./output/rcr_guess4_gappy_sim_sir_w_date.csv\n"
     ]
    }
   ],
   "source": [
    "!ls ./output/*.csv | grep 'rcr_guess4_gappy'"
   ]
  },
  {
   "cell_type": "code",
   "execution_count": 32,
   "metadata": {},
   "outputs": [],
   "source": [
    "# Read data and set x and y arrays\n",
    "rcr_guess4_gappy_df = pd.read_csv('./output/rcr_guess4_gappy_adm_cen_wide.csv', \n",
    "                                  parse_dates=['date'],\n",
    "                                  index_col=0)\n",
    "x = np.array(rcr_guess4_gappy_df.index.values)\n",
    "y_actual_admits = np.array(rcr_guess4_gappy_df.covid_admits)\n",
    "y_actual_census = np.array(rcr_guess4_gappy_df.covid_census)\n",
    "y_adm_rcr_guess4_gappy = np.array(rcr_guess4_gappy_df.admits_hospitalized)\n",
    "y_cen_rcr_guess4_gappy = np.array(rcr_guess4_gappy_df.census_hospitalized)"
   ]
  },
  {
   "cell_type": "code",
   "execution_count": 33,
   "metadata": {},
   "outputs": [
    {
     "data": {
      "image/png": "[encoded data removed]",
      "text/plain": [
       "<Figure size 432x288 with 1 Axes>"
      ]
     },
     "metadata": {
      "needs_background": "light"
     },
     "output_type": "display_data"
    }
   ],
   "source": [
    "# Do census comparison\n",
    "\n",
    "plt.plot(x, y_actual_census, 'b:', label = 'actual census')\n",
    "plt.plot(x, y_cen_rcr_guess4_gappy, 'r-', label = 'y_cen_rcr_guess4_gappy')\n",
    "plt.title('Model calibration using multiple mitigation dates')\n",
    "plt.xlabel('days since Feb 20')\n",
    "plt.ylabel('census')\n",
    "plt.legend()\n",
    "plt.savefig(\"model_calibration_cen_rcr_guess4_gappy.png\")\n",
    "plt.show()"
   ]
  },
  {
   "cell_type": "code",
   "execution_count": 34,
   "metadata": {},
   "outputs": [
    {
     "data": {
      "image/png": "[encoded data removed]",
      "text/plain": [
       "<Figure size 432x288 with 1 Axes>"
      ]
     },
     "metadata": {
      "needs_background": "light"
     },
     "output_type": "display_data"
    }
   ],
   "source": [
    "# Do admit comparison\n",
    "\n",
    "plt.plot(x, y_actual_admits, 'b:', label = 'actual admits')\n",
    "plt.plot(x, y_adm_rcr_guess4_gappy, 'r-', label = 'y_adm_rcr_guess4_gappy')\n",
    "plt.title('Model calibration using multiple mitigation dates')\n",
    "plt.xlabel('days since Feb 20')\n",
    "plt.ylabel('admits')\n",
    "plt.legend()\n",
    "plt.savefig(\"model_calibration_adm_rcr_guess4_gappy.png\")\n",
    "plt.show()"
   ]
  },
  {
   "cell_type": "markdown",
   "metadata": {},
   "source": [
    "## Implementation sketch\n",
    "In the current version of CHIME, the user specified `mitigation-date` and `relative-contact-rate` are used in the `gen_policy()` method of the `Sir` class (both of which live in the module `sir.py` found in `src/penn_chime/model/`). The `gen_policy()` method creates a list of two tuples, `(beta, n_days)`, containing the $\\beta$ values for before and after the `mitigation-date` and the number of days for which each $\\beta$ is in effect. The resulting list looks like this ($\\beta_{1}$ is in effect for first 30 days and then $\\beta_{2}$ is in effect until the end of the simulation, 138 days later):\n",
    "\n",
    "    [(2.1885788284312043e-07, 30), (9.848604727940418e-08, 138)]\n",
    "    \n",
    "These beta values are passed to `sim_sir` which then uses in the main `sir()` function which does a single step of the SIR simulation. Depending on which day it is (i.e. before or after the mitigation date), it either uses the first or the second `beta` value in the list of above.\n",
    "\n",
    "In order to handle multiple mitigation dates, while still not touching the base `penn_chime` code, I subclassed their `Sir` class with a new class called `SirPlus` that lives in `sirplus.py` in my `sim_chime_scenario_runner` module. That class has a method called `get_betas` that takes the dataframe of dynamic relative contact rates described above and generates a list of `(beta, n_days)` tuples analagous to `Sir.gen_policy()`. The main module of `sim_chime_scenario_runner` handles reading the `dynamic-rcr` csv file into a pandas dataframe. Of course, there can be more than two tuples in the resulting list. Then, this list of policy tuples is passed to the CHIME `sim_sir` function and away we go. Remember, `sim_chime_scenario_runner` is just a wrapper (with extensions) for CHIME and uses the installed CHIME modules whenever possible. The `SirPlus` class is only used by `sim_chime_scenario_runner` if the user \n",
    "specifies that a `dynamic-rcr` file should be used. Otherwise, the standard CHIME `Sir` class is used.    \n"
   ]
  },
  {
   "cell_type": "markdown",
   "metadata": {},
   "source": [
    "## Next steps\n",
    "Obviously, the usefulness will depend in part on how well we can model various policy scenarios through the mitigation dates and relative contact values. Still tons of uncertainty as to values of basic model inputs and work continues by the CHIME folks on a Bayesian version that directly address such uncertainties. This work on dynamic relative contact rates just provides another set of easily interpetable modeling degrees of freedom for exploring the potential outcomes of various social distancing policies.\n",
    "\n",
    "Much more to do, but wanted to get this idea out there for feedback."
   ]
  },
  {
   "cell_type": "markdown",
   "metadata": {},
   "source": [
    "<font size=\"2\">This material is made available under the [MIT License](https://opensource.org/licenses/MIT).</font>"
   ]
  },
  {
   "cell_type": "code",
   "execution_count": null,
   "metadata": {},
   "outputs": [],
   "source": []
  }
 ],
 "metadata": {
  "kernelspec": {
   "display_name": "Python 3",
   "language": "python",
   "name": "python3"
  },
  "language_info": {
   "codemirror_mode": {
    "name": "ipython",
    "version": 3
   },
   "file_extension": ".py",
   "mimetype": "text/x-python",
   "name": "python",
   "nbconvert_exporter": "python",
   "pygments_lexer": "ipython3",
   "version": "3.8.1"
  }
 },
 "nbformat": 4,
 "nbformat_minor": 4
}
